{
 "cells": [
  {
   "cell_type": "code",
   "execution_count": null,
   "metadata": {},
   "outputs": [],
   "source": [
    "# chalenge Part1 section 2\n",
    "\n",
    "\n",
    "# 1.\n",
    "print(\"aiueo\")\n",
    "print(\"abcde\")\n",
    "print(\"This is the one.\")\n",
    "\n",
    "\n",
    "print(\"-------------\")\n",
    "\n",
    "# 2.\n",
    "x = 10\n",
    "if x <10:\n",
    "    print(\"x is under 10\")\n",
    "else:\n",
    "    print(\"x is over 10\")\n",
    "\n",
    "    \n",
    "print(\"-------------\")\n",
    "\n",
    "# 3.    \n",
    "y = 20\n",
    "if y <=10:\n",
    "    print(\"y is under 10\")\n",
    "elif y > 10 and y <=25:\n",
    "    print(\"y is 10~ 25\")\n",
    "elif y > 25:\n",
    "    print(\"y is over 25\")\n",
    "\n",
    "    \n",
    "print(\"-------------\")\n",
    "# 4.\n",
    "a = 256\n",
    "b = 100\n",
    "print(a % b)\n",
    "\n",
    "\n",
    "print(\"-------------\")\n",
    "# 5.\n",
    "print(a // b)\n",
    "\n",
    "print(\"-------------\")\n",
    "# 6.\n",
    "age = input(\"type your age\")\n",
    "age = int(age)\n",
    "if age == 26:\n",
    "    print(\"you are a friend\")\n",
    "else: \n",
    "     print(\"you are not friend. \")"
   ]
  }
 ],
 "metadata": {
  "kernelspec": {
   "display_name": "Python 3",
   "language": "python",
   "name": "python3"
  },
  "language_info": {
   "codemirror_mode": {
    "name": "ipython",
    "version": 3
   },
   "file_extension": ".py",
   "mimetype": "text/x-python",
   "name": "python",
   "nbconvert_exporter": "python",
   "pygments_lexer": "ipython3",
   "version": "3.7.3"
  }
 },
 "nbformat": 4,
 "nbformat_minor": 2
}
