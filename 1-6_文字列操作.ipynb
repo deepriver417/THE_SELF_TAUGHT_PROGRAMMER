{
 "cells": [
  {
   "cell_type": "code",
   "execution_count": 5,
   "metadata": {},
   "outputs": [
    {
     "name": "stdout",
     "output_type": "stream",
     "text": [
      "c\n",
      "a\n",
      "m\n",
      "u\n",
      "s\n",
      "takashi\n",
      "me\n",
      "I wrote takashi, send it tome\n"
     ]
    }
   ],
   "source": [
    "# 1.\n",
    "albert = \"camus\"\n",
    "print(albert[0])\n",
    "print(albert[1])\n",
    "print(albert[2])\n",
    "print(albert[3])\n",
    "print(albert[4])"
   ]
  },
  {
   "cell_type": "code",
   "execution_count": 6,
   "metadata": {},
   "outputs": [
    {
     "name": "stdout",
     "output_type": "stream",
     "text": [
      "adf\n",
      "adf\n",
      "I wrote adf, send it to adf\n"
     ]
    }
   ],
   "source": [
    "\n",
    "# 2.\n",
    "first = input()\n",
    "second = input()\n",
    "\n",
    "print(\"I wrote \" + first + \", send it to \" + second) \n",
    "\n"
   ]
  },
  {
   "cell_type": "code",
   "execution_count": 7,
   "metadata": {},
   "outputs": [
    {
     "name": "stdout",
     "output_type": "stream",
     "text": [
      "Aldous huxley was born in 1894\n"
     ]
    }
   ],
   "source": [
    "# 3.\n",
    "\n",
    "print(\"aldous Huxley was born in 1894.\".capitalize())"
   ]
  },
  {
   "cell_type": "code",
   "execution_count": 8,
   "metadata": {},
   "outputs": [
    {
     "name": "stdout",
     "output_type": "stream",
     "text": [
      "['where?', 'who?', 'when?']\n"
     ]
    }
   ],
   "source": [
    "#4.\n",
    "\n",
    "print(\"where? who? when?\".split(\" \"))"
   ]
  },
  {
   "cell_type": "code",
   "execution_count": 3,
   "metadata": {},
   "outputs": [
    {
     "name": "stdout",
     "output_type": "stream",
     "text": [
      "The fox jumped over the fence .\n"
     ]
    }
   ],
   "source": [
    "#5.\n",
    "\n",
    "list = [\"The\",\"fox\",\"jumped\",\"over\",\"the\",\"fence\",\".\"]\n",
    "ans = \" \".join(list)\n",
    "\n",
    "print(ans)"
   ]
  },
  {
   "cell_type": "code",
   "execution_count": 4,
   "metadata": {},
   "outputs": [
    {
     "name": "stdout",
     "output_type": "stream",
     "text": [
      "A $creaming come$ acro$$ the $ky.\n"
     ]
    }
   ],
   "source": [
    "# 6.\n",
    "\n",
    "\n",
    "six = \"A screaming comes across the sky.\".replace(\"s\",\"$\")\n",
    "print(six)"
   ]
  },
  {
   "cell_type": "code",
   "execution_count": 5,
   "metadata": {},
   "outputs": [
    {
     "name": "stdout",
     "output_type": "stream",
     "text": [
      "2\n"
     ]
    }
   ],
   "source": [
    "print(\"Hemingway\".index(\"m\"))"
   ]
  },
  {
   "cell_type": "code",
   "execution_count": 7,
   "metadata": {},
   "outputs": [
    {
     "name": "stdout",
     "output_type": "stream",
     "text": [
      "'The God is dead.'\n"
     ]
    }
   ],
   "source": [
    "#8.\n",
    "\n",
    "ans = \"'The God is dead.'\"\n",
    "print(ans)"
   ]
  },
  {
   "cell_type": "code",
   "execution_count": 11,
   "metadata": {},
   "outputs": [
    {
     "name": "stdout",
     "output_type": "stream",
     "text": [
      "three three three \n",
      "three three three \n"
     ]
    }
   ],
   "source": [
    "#9.\n",
    "\n",
    "print(\"three \"+\"three \"+\"three \")\n",
    "print(\"three \" *3)"
   ]
  },
  {
   "cell_type": "code",
   "execution_count": 17,
   "metadata": {},
   "outputs": [
    {
     "name": "stdout",
     "output_type": "stream",
     "text": [
      "四月の晴れた寒い日で\n"
     ]
    }
   ],
   "source": [
    "#10.\n",
    "\n",
    "jap =\"四月の晴れた寒い日で、時計がどれも十三時を打っていた。\"\n",
    "comnum = jap.index(\"、\")\n",
    "print(jap[0:int(comnum)])\n"
   ]
  },
  {
   "cell_type": "code",
   "execution_count": null,
   "metadata": {},
   "outputs": [],
   "source": []
  }
 ],
 "metadata": {
  "kernelspec": {
   "display_name": "Python 3",
   "language": "python",
   "name": "python3"
  },
  "language_info": {
   "codemirror_mode": {
    "name": "ipython",
    "version": 3
   },
   "file_extension": ".py",
   "mimetype": "text/x-python",
   "name": "python",
   "nbconvert_exporter": "python",
   "pygments_lexer": "ipython3",
   "version": "3.7.3"
  }
 },
 "nbformat": 4,
 "nbformat_minor": 2
}
