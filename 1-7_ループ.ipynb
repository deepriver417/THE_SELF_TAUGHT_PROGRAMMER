{
 "cells": [
  {
   "cell_type": "code",
   "execution_count": 3,
   "metadata": {},
   "outputs": [
    {
     "name": "stdout",
     "output_type": "stream",
     "text": [
      "ウォーキングデッド\n",
      "案とらーじゅ\n",
      "座ソプラノ図\n",
      "vampire dailyes\n"
     ]
    }
   ],
   "source": [
    "#1.\n",
    "\n",
    "list = [\"ウォーキングデッド\",\"案とらーじゅ\",\"座ソプラノ図\",\"vampire dailyes\"]\n",
    "\n",
    "for item in list:\n",
    "    print(item)\n"
   ]
  },
  {
   "cell_type": "code",
   "execution_count": 6,
   "metadata": {},
   "outputs": [
    {
     "name": "stdout",
     "output_type": "stream",
     "text": [
      "25\n",
      "26\n",
      "27\n",
      "28\n",
      "29\n",
      "30\n",
      "31\n",
      "32\n",
      "33\n",
      "34\n",
      "35\n",
      "36\n",
      "37\n",
      "38\n",
      "39\n",
      "40\n",
      "41\n",
      "42\n",
      "43\n",
      "44\n",
      "45\n",
      "46\n",
      "47\n",
      "48\n",
      "49\n",
      "50\n"
     ]
    }
   ],
   "source": [
    "#2.\n",
    "\n",
    "for i in range(25,51):\n",
    "    print(i)\n"
   ]
  },
  {
   "cell_type": "code",
   "execution_count": 10,
   "metadata": {},
   "outputs": [
    {
     "name": "stdout",
     "output_type": "stream",
     "text": [
      "ウォーキングデッド:0\n",
      "案とらーじゅ:1\n",
      "座ソプラノ図:2\n",
      "vampire dailyes:3\n"
     ]
    }
   ],
   "source": [
    "#3.\n",
    "\n",
    "list = [\"ウォーキングデッド\",\"案とらーじゅ\",\"座ソプラノ図\",\"vampire dailyes\"]\n",
    "i = 0\n",
    "for item in list:\n",
    "    print(item +\":\"+ str(i))\n",
    "    i += 1\n",
    "\n"
   ]
  },
  {
   "cell_type": "code",
   "execution_count": 22,
   "metadata": {},
   "outputs": [
    {
     "name": "stdout",
     "output_type": "stream",
     "text": [
      "type numberq\n"
     ]
    }
   ],
   "source": [
    "#4.\n",
    "\n",
    "anss = [1,5]\n",
    "\n",
    "while True:\n",
    "    userans = input(\"type number\")\n",
    "    if \"q\" == userans:\n",
    "        break\n",
    "\n",
    "    try:\n",
    "        userans = int(userans)\n",
    "        if userans in anss:\n",
    "            print(\"CORRECT\")\n",
    "        else:\n",
    "            print(\"INCORRECT\")\n",
    "    except  ValueError:\n",
    "        print(\"type numeber or q\")"
   ]
  },
  {
   "cell_type": "code",
   "execution_count": 26,
   "metadata": {},
   "outputs": [
    {
     "name": "stdout",
     "output_type": "stream",
     "text": [
      "9\n",
      "8\n",
      "7\n",
      "6\n",
      "5\n",
      "18\n",
      "16\n",
      "14\n",
      "12\n",
      "10\n",
      "27\n",
      "24\n",
      "21\n",
      "18\n",
      "15\n",
      "36\n",
      "32\n",
      "28\n",
      "24\n",
      "20\n",
      "45\n",
      "40\n",
      "35\n",
      "30\n",
      "25\n"
     ]
    }
   ],
   "source": [
    "#5.\n",
    "\n",
    "list_1 = [1,2,3,4,5]\n",
    "list_2 = [9,8,7,6,5]\n",
    "list_3 = []\n",
    "for item_1 in list_1:\n",
    "    for item_2 in list_2:\n",
    "        list_3.append(item_2 * item_1)\n",
    "\n",
    "        \n",
    "for item_3 in list_3:\n",
    "    print(item_3)"
   ]
  }
 ],
 "metadata": {
  "kernelspec": {
   "display_name": "Python 3",
   "language": "python",
   "name": "python3"
  },
  "language_info": {
   "codemirror_mode": {
    "name": "ipython",
    "version": 3
   },
   "file_extension": ".py",
   "mimetype": "text/x-python",
   "name": "python",
   "nbconvert_exporter": "python",
   "pygments_lexer": "ipython3",
   "version": "3.7.3"
  }
 },
 "nbformat": 4,
 "nbformat_minor": 2
}
