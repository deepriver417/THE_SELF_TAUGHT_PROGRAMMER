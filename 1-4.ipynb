{
 "cells": [
  {
   "cell_type": "code",
   "execution_count": 2,
   "metadata": {},
   "outputs": [
    {
     "name": "stdout",
     "output_type": "stream",
     "text": [
      "This is the world\n"
     ]
    }
   ],
   "source": [
    "print(\"This is the world\")"
   ]
  },
  {
   "cell_type": "code",
   "execution_count": 4,
   "metadata": {},
   "outputs": [
    {
     "name": "stdout",
     "output_type": "stream",
     "text": [
      "type10\n",
      "type2\n",
      "5.0\n"
     ]
    }
   ],
   "source": [
    "a= input(\"type\")\n",
    "b=input(\"type\")\n",
    "a=int(a)\n",
    "b=int(b)\n",
    "try:\n",
    "        print(a/b)\n",
    "except ZeroDivisionError:\n",
    "    print(\"b cannot be zero\")\n"
   ]
  },
  {
   "cell_type": "code",
   "execution_count": 22,
   "metadata": {},
   "outputs": [
    {
     "name": "stdout",
     "output_type": "stream",
     "text": [
      "1\n",
      "this is the dog.\n",
      "11\n",
      "this is value error.\n"
     ]
    }
   ],
   "source": [
    "#challenge\n",
    "\n",
    "# 1.\n",
    "#num = input(\"type\")\n",
    "#num = int(num)\n",
    "def f(x):\n",
    "    print(x ** x)\n",
    "\n",
    "f(num)\n",
    "\n",
    "# 2.\n",
    "def g(s):\n",
    "    print(s)\n",
    "\n",
    "g(\"this is the dog.\")\n",
    "\n",
    "# 3.\n",
    "def h(a,b,c,d=2,e=3):\n",
    "    print(a+b+c+d+e)\n",
    "\n",
    "h(1,2,3)\n",
    "\n",
    "# 4.\n",
    "def i(seisu):\n",
    "    return int(seisu / 2)\n",
    "\n",
    "def j(seisu2):\n",
    "    return seisu2 * 4\n",
    "\n",
    "waruni = i(10)\n",
    "j(waruni)\n",
    "\n",
    "\n",
    "# 5.\n",
    "def k(any):\n",
    "    try:\n",
    "        any = float(any)\n",
    "        return any\n",
    "    except ValueError:\n",
    "        print(\"this is value error.\")\n",
    "k(\"at\")"
   ]
  },
  {
   "cell_type": "code",
   "execution_count": null,
   "metadata": {},
   "outputs": [],
   "source": []
  }
 ],
 "metadata": {
  "kernelspec": {
   "display_name": "Python 3",
   "language": "python",
   "name": "python3"
  },
  "language_info": {
   "codemirror_mode": {
    "name": "ipython",
    "version": 3
   },
   "file_extension": ".py",
   "mimetype": "text/x-python",
   "name": "python",
   "nbconvert_exporter": "python",
   "pygments_lexer": "ipython3",
   "version": "3.7.3"
  }
 },
 "nbformat": 4,
 "nbformat_minor": 2
}
