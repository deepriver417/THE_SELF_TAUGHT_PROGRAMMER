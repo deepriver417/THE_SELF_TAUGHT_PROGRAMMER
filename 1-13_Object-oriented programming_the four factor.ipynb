{
 "cells": [
  {
   "cell_type": "code",
   "execution_count": 4,
   "metadata": {},
   "outputs": [
    {
     "name": "stdout",
     "output_type": "stream",
     "text": [
      "14\n",
      "16\n"
     ]
    }
   ],
   "source": [
    "#1.\n",
    "class Rectangle:\n",
    "    def __init__(self,w,h):\n",
    "        self.width = w\n",
    "        self.hight = h\n",
    "    \n",
    "    def calculate_perimeter(self):\n",
    "        return self.width * 2 + self.hight * 2\n",
    "\n",
    "class Square:\n",
    "    def __init__(self,l):\n",
    "        self.line = l\n",
    "    \n",
    "    def calculate_perimeter(self):\n",
    "        return self.line * 4\n",
    "\n",
    "rect = Rectangle(2,5)\n",
    "squa = Square(4)\n",
    "    \n",
    "perimterlist = [rect,squa]\n",
    "\n",
    "for perimter in perimterlist:\n",
    "    print(perimter.calculate_perimeter())\n"
   ]
  },
  {
   "cell_type": "code",
   "execution_count": 7,
   "metadata": {},
   "outputs": [
    {
     "name": "stdout",
     "output_type": "stream",
     "text": [
      "5\n",
      "3\n",
      "10\n"
     ]
    }
   ],
   "source": [
    "#2. \n",
    "class Square:\n",
    "    def __init__(self,w):\n",
    "        self.width = w\n",
    "    \n",
    "    def change_size(self,chsize):\n",
    "        self.width = self.width + chsize\n",
    "\n",
    "squa = Square(5)\n",
    "print(squa.width)\n",
    "squa.change_size(-2)\n",
    "print(squa.width)\n",
    "squa.change_size(7)\n",
    "print(squa.width)"
   ]
  },
  {
   "cell_type": "code",
   "execution_count": 18,
   "metadata": {},
   "outputs": [
    {
     "name": "stdout",
     "output_type": "stream",
     "text": [
      "I am a shape\n",
      "I am a shape\n",
      "I am a shape\n"
     ]
    }
   ],
   "source": [
    "#3.\n",
    "class Shape:\n",
    "    def __init__(self):\n",
    "        self.a = \"a\"\n",
    "    \n",
    "    def who_am_i(self):\n",
    "        msg = \"I am a shape\"\n",
    "        return(msg)\n",
    "\n",
    "class Rectangle(Shape):\n",
    "    pass\n",
    "\n",
    "class Square(Shape):\n",
    "    pass\n",
    "\n",
    "sha = Shape()\n",
    "rect = Rectangle()\n",
    "squa = Square()\n",
    "perimterlist = [sha,rect,squa]\n",
    "for perimter in perimterlist:\n",
    "    print(perimter.who_am_i())\n"
   ]
  },
  {
   "cell_type": "code",
   "execution_count": 19,
   "metadata": {},
   "outputs": [
    {
     "name": "stdout",
     "output_type": "stream",
     "text": [
      "Take Yutaka\n"
     ]
    }
   ],
   "source": [
    "#4.\n",
    "\n",
    "class Horse:\n",
    "    def __init__(self,name,owner):\n",
    "        self.name = name\n",
    "        self.owner = owner\n",
    "    \n",
    "class Person:\n",
    "    def __init__(self,name):\n",
    "        self.name = name\n",
    "    \n",
    "take = Person(\"Take Yutaka\")\n",
    "di = Horse(\"Deep Imapct\",take)\n",
    "print(di.owner.name)"
   ]
  }
 ],
 "metadata": {
  "kernelspec": {
   "display_name": "Python 3",
   "language": "python",
   "name": "python3"
  },
  "language_info": {
   "codemirror_mode": {
    "name": "ipython",
    "version": 3
   },
   "file_extension": ".py",
   "mimetype": "text/x-python",
   "name": "python",
   "nbconvert_exporter": "python",
   "pygments_lexer": "ipython3",
   "version": "3.7.3"
  }
 },
 "nbformat": 4,
 "nbformat_minor": 2
}
