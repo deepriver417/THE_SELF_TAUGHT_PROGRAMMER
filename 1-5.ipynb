{
 "cells": [
  {
   "cell_type": "code",
   "execution_count": 20,
   "metadata": {},
   "outputs": [
    {
     "name": "stdout",
     "output_type": "stream",
     "text": [
      "['mr.children', 'spitz', 'utada hikaru']\n",
      "[('43', '141'), ('35', '139')]\n",
      "type any wordsasdf\n",
      "errororor\n"
     ]
    },
    {
     "data": {
      "text/plain": [
       "'beautiful world'"
      ]
     },
     "execution_count": 20,
     "metadata": {},
     "output_type": "execute_result"
    }
   ],
   "source": [
    "#challenge\n",
    "\n",
    "# 1. \n",
    "musician = [\"mr.children\",\"spitz\",\"utada hikaru\"]\n",
    "print(musician)\n",
    "\n",
    "\n",
    "# 2. \n",
    "hokaido = (\"43\",\"141\")\n",
    "kanagawa = (\"35\",\"139\")\n",
    "location = [hokaido,kanagawa]\n",
    "print(location)\n",
    "\n",
    "# 3. \n",
    "myfavorite = {\"hight\":\"174\",\"color\":\"blue\",\"author\":\"koshi\"}\n",
    "myfavorite[\"author\"]\n",
    "\n",
    "# 4. \n",
    "ipt = input(\"type any words\")\n",
    "try:\n",
    "    print(myfavorite[ipt])\n",
    "except KeyError:\n",
    "    print(\"errororor\")\n",
    "\n",
    "# 5. \n",
    "tunes= {\"mrchil\":\"innocent world\",\"spitz\":\"robinson\",\"utada hikaru\":\"beautiful world\"}\n",
    "tunes[\"utada hikaru\"]\n",
    "\n",
    "# 6. \n",
    "# setは重複がないため、色の管理に使える。重複しないし順番もないもの\n"
   ]
  },
  {
   "cell_type": "code",
   "execution_count": null,
   "metadata": {},
   "outputs": [],
   "source": []
  }
 ],
 "metadata": {
  "kernelspec": {
   "display_name": "Python 3",
   "language": "python",
   "name": "python3"
  },
  "language_info": {
   "codemirror_mode": {
    "name": "ipython",
    "version": 3
   },
   "file_extension": ".py",
   "mimetype": "text/x-python",
   "name": "python",
   "nbconvert_exporter": "python",
   "pygments_lexer": "ipython3",
   "version": "3.7.3"
  }
 },
 "nbformat": 4,
 "nbformat_minor": 2
}
