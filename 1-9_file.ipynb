{
 "cells": [
  {
   "cell_type": "code",
   "execution_count": 1,
   "metadata": {},
   "outputs": [],
   "source": [
    "st = open(\"st.txt\",\"w\",encoding=\"utf-8\")\n",
    "st.write(\"pythonからこんにちは\")\n",
    "st.close()"
   ]
  },
  {
   "cell_type": "code",
   "execution_count": 3,
   "metadata": {},
   "outputs": [
    {
     "name": "stdout",
     "output_type": "stream",
     "text": [
      "pythonからこんにちは\n"
     ]
    }
   ],
   "source": [
    "#1.\n",
    "st = open(\"st.txt\",\"r\",encoding=\"utf-8\")\n",
    "print(st.read())\n",
    "st.close()"
   ]
  },
  {
   "cell_type": "code",
   "execution_count": 4,
   "metadata": {},
   "outputs": [
    {
     "name": "stdout",
     "output_type": "stream",
     "text": [
      "type your favorite physicianJames clerk maxwell\n"
     ]
    }
   ],
   "source": [
    "qws = input(\"type your favorite physician\")\n",
    "with open(\"1-9-2.txt\",\"w\") as f:\n",
    "    f.write(qws)\n"
   ]
  },
  {
   "cell_type": "code",
   "execution_count": 6,
   "metadata": {},
   "outputs": [],
   "source": [
    "import csv\n",
    "\n",
    "list = [[\"Top Gun\",\"Risky Business\",\"Minority Report\"],[\"Titanic\",\"The Revenant\",\"Inception\",],[\"Training Day\",\"Man on Fire\",\"Flight\"]]\n",
    "with open(\"1-9-3.csv\",\"w\",newline='') as f:\n",
    "    w = csv.writer(f,delimiter=\",\")\n",
    "    w.writerow(list)\n",
    "\n"
   ]
  },
  {
   "cell_type": "code",
   "execution_count": null,
   "metadata": {},
   "outputs": [],
   "source": []
  }
 ],
 "metadata": {
  "kernelspec": {
   "display_name": "Python 3",
   "language": "python",
   "name": "python3"
  },
  "language_info": {
   "codemirror_mode": {
    "name": "ipython",
    "version": 3
   },
   "file_extension": ".py",
   "mimetype": "text/x-python",
   "name": "python",
   "nbconvert_exporter": "python",
   "pygments_lexer": "ipython3",
   "version": "3.7.3"
  }
 },
 "nbformat": 4,
 "nbformat_minor": 2
}
