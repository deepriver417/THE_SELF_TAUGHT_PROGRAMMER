{
 "cells": [
  {
   "cell_type": "code",
   "execution_count": 4,
   "metadata": {},
   "outputs": [
    {
     "name": "stdout",
     "output_type": "stream",
     "text": [
      "created\n"
     ]
    }
   ],
   "source": [
    "#1.\n",
    "\n",
    "class Apple:\n",
    "    def __init__(self,c,s,w,sm):\n",
    "        self.color =c\n",
    "        self.size = s\n",
    "        self.weight = w\n",
    "        self.smell = sm\n",
    "        print(\"created\")\n",
    "\n",
    "apple = Apple(\"red\",100,\"100g\",\"none\")"
   ]
  },
  {
   "cell_type": "code",
   "execution_count": 19,
   "metadata": {},
   "outputs": [
    {
     "name": "stdout",
     "output_type": "stream",
     "text": [
      "12.566370614359172\n"
     ]
    }
   ],
   "source": [
    "#2.\n",
    "import math\n",
    "\n",
    "class Circle:\n",
    "    def __init__(self,r):\n",
    "        self.radius = r\n",
    "    \n",
    "    def area(self):\n",
    "        return self.radius ** 2 * math.pi\n",
    "\n",
    "circle = Circle(2)\n",
    "print(circle.area())"
   ]
  },
  {
   "cell_type": "code",
   "execution_count": 23,
   "metadata": {},
   "outputs": [
    {
     "name": "stdout",
     "output_type": "stream",
     "text": [
      "10.0\n"
     ]
    }
   ],
   "source": [
    "#3.\n",
    "class Triangle:\n",
    "    def __init__(self,h,b):\n",
    "        self.hight = h\n",
    "        self.base = b\n",
    "    \n",
    "    def area(self):\n",
    "        return self.hight* self.base / 2\n",
    "\n",
    "tri = Triangle(4,5)\n",
    "print(tri.area())"
   ]
  },
  {
   "cell_type": "code",
   "execution_count": 26,
   "metadata": {},
   "outputs": [
    {
     "name": "stdout",
     "output_type": "stream",
     "text": [
      "18\n"
     ]
    }
   ],
   "source": [
    "#4.\n",
    "class Hexagon:\n",
    "    def __init__(self,l):\n",
    "        self.line = l\n",
    "    \n",
    "    def calculate_perimeter(self):\n",
    "        return self.line * 6\n",
    "\n",
    "hex = Hexagon(3)\n",
    "print(hex.calculate_perimeter())\n"
   ]
  }
 ],
 "metadata": {
  "kernelspec": {
   "display_name": "Python 3",
   "language": "python",
   "name": "python3"
  },
  "language_info": {
   "codemirror_mode": {
    "name": "ipython",
    "version": 3
   },
   "file_extension": ".py",
   "mimetype": "text/x-python",
   "name": "python",
   "nbconvert_exporter": "python",
   "pygments_lexer": "ipython3",
   "version": "3.7.3"
  }
 },
 "nbformat": 4,
 "nbformat_minor": 2
}
