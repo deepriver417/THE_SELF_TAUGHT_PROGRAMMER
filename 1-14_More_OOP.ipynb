{
 "cells": [
  {
   "cell_type": "code",
   "execution_count": 4,
   "metadata": {},
   "outputs": [
    {
     "name": "stdout",
     "output_type": "stream",
     "text": [
      "[2, 4, 9]\n"
     ]
    }
   ],
   "source": [
    "#1.\n",
    "class Square:\n",
    "    square_list = []\n",
    "    \n",
    "    def __init__(self,l):\n",
    "        self.line = l\n",
    "        self.square_list.append(self.line)\n",
    "\n",
    "s1 = Square(2)\n",
    "s2 = Square(4)\n",
    "s3 = Square(9)\n",
    "\n",
    "print(Square.square_list)"
   ]
  },
  {
   "cell_type": "code",
   "execution_count": 6,
   "metadata": {},
   "outputs": [
    {
     "name": "stdout",
     "output_type": "stream",
     "text": [
      "29 by 29 by 29 by 29\n"
     ]
    }
   ],
   "source": [
    "#2.\n",
    "class Square:\n",
    "    \n",
    "    def __init__(self,l):\n",
    "        self.line = l\n",
    "    \n",
    "    def __repr__(self):\n",
    "        return \"{} by {} by {} by {}\".format(self.line,self.line,self.line,self.line)\n",
    "\n",
    "s1=Square(29)\n",
    "print(s1)"
   ]
  },
  {
   "cell_type": "code",
   "execution_count": 15,
   "metadata": {},
   "outputs": [
    {
     "name": "stdout",
     "output_type": "stream",
     "text": [
      "True\n",
      "False\n"
     ]
    }
   ],
   "source": [
    "#3.\n",
    "\n",
    "def judge(a,b):\n",
    "    if a is b:\n",
    "        return True\n",
    "    else:\n",
    "        return False\n",
    "\n",
    "print(judge(2,2))\n",
    "print(judge(2,4))\n"
   ]
  }
 ],
 "metadata": {
  "kernelspec": {
   "display_name": "Python 3",
   "language": "python",
   "name": "python3"
  },
  "language_info": {
   "codemirror_mode": {
    "name": "ipython",
    "version": 3
   },
   "file_extension": ".py",
   "mimetype": "text/x-python",
   "name": "python",
   "nbconvert_exporter": "python",
   "pygments_lexer": "ipython3",
   "version": "3.7.3"
  }
 },
 "nbformat": 4,
 "nbformat_minor": 2
}
